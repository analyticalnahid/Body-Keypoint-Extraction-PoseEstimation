{
  "cells": [
    {
      "cell_type": "markdown",
      "source": [
        "# Mount Drive"
      ],
      "metadata": {
        "id": "Y1cDRimxluVe"
      }
    },
    {
      "cell_type": "code",
      "execution_count": null,
      "metadata": {
        "id": "pyKOusXy4TGc",
        "colab": {
          "base_uri": "https://localhost:8080/"
        },
        "outputId": "e5fc17f3-537b-444b-acc5-5f6f4e25e4d1"
      },
      "outputs": [
        {
          "output_type": "stream",
          "name": "stdout",
          "text": [
            "Mounted at /content/drive\n"
          ]
        }
      ],
      "source": [
        "from google.colab import drive\n",
        "drive.mount('/content/drive')"
      ]
    },
    {
      "cell_type": "markdown",
      "source": [
        "# Building OpenPose"
      ],
      "metadata": {
        "id": "M3iGb-fOllah"
      }
    },
    {
      "cell_type": "code",
      "source": [
        "import os\n",
        "from os.path import exists, join, basename, splitext\n",
        "\n",
        "git_repo_url = 'https://github.com/CMU-Perceptual-Computing-Lab/openpose.git'\n",
        "project_name = splitext(basename(git_repo_url))[0]\n",
        "if not exists(project_name):\n",
        "  \n",
        "  !wget -q https://cmake.org/files/v3.13/cmake-3.13.0-Linux-x86_64.tar.gz\n",
        "  !tar xfz cmake-3.13.0-Linux-x86_64.tar.gz --strip-components=1 -C /usr/local\n",
        "  # clone openpose\n",
        "  !git clone -q --depth 1 $git_repo_url\n",
        "  !sed -i 's/execute_process(COMMAND git checkout master WORKING_DIRECTORY ${CMAKE_SOURCE_DIR}\\/3rdparty\\/caffe)/execute_process(COMMAND git checkout f019d0dfe86f49d1140961f8c7dec22130c83154 WORKING_DIRECTORY ${CMAKE_SOURCE_DIR}\\/3rdparty\\/caffe)/g' openpose/CMakeLists.txt\n",
        "  # install system dependencies\n",
        "  !apt-get -qq install -y libatlas-base-dev libprotobuf-dev libleveldb-dev libsnappy-dev libhdf5-serial-dev protobuf-compiler libgflags-dev libgoogle-glog-dev liblmdb-dev opencl-headers ocl-icd-opencl-dev libviennacl-dev\n",
        "  # install python dependencies\n",
        "  !pip install -q youtube-dl\n",
        "  # build openpose\n",
        "  !cd openpose && rm -rf build || true && mkdir build && cd build && cmake .. && make -j`nproc`\n",
        "  "
      ],
      "metadata": {
        "id": "E3Hdc4lDVs2A"
      },
      "execution_count": null,
      "outputs": []
    },
    {
      "cell_type": "markdown",
      "source": [
        "# Download Required Files"
      ],
      "metadata": {
        "id": "gHI6KB9llkaH"
      }
    },
    {
      "cell_type": "code",
      "source": [
        "!wget --load-cookies /tmp/cookies.txt \"https://docs.google.com/uc?export=download&confirm=$(wget --quiet --save-cookies /tmp/cookies.txt --keep-session-cookies --no-check-certificate 'https://docs.google.com/uc?export=download&id=1ZcIwWgG1ltOb3G2jfZh_9qHCG2pHbriN' -O- | sed -rn 's/.*confirm=([0-9A-Za-z_]+).*/\\1\\n/p')&id=1ZcIwWgG1ltOb3G2jfZh_9qHCG2pHbriN\" -O images.zip && rm -rf /tmp/cookies.txt\n",
        "!unzip *file path*"
      ],
      "metadata": {
        "id": "WHzQ-GurTUXV"
      },
      "execution_count": null,
      "outputs": []
    },
    {
      "cell_type": "markdown",
      "source": [
        "# Extracting Keypoitns"
      ],
      "metadata": {
        "id": "nb8RxPXm4WlX"
      }
    },
    {
      "cell_type": "code",
      "source": [
        "%cd openpose\n",
        "!./build/examples/openpose/openpose.bin --image_dir \"path of img dir\" --write_json \"output dir\" --display 0 --render_pose 0"
      ],
      "metadata": {
        "id": "KtEJvaVj3Ucy"
      },
      "execution_count": null,
      "outputs": []
    },
    {
      "cell_type": "markdown",
      "source": [
        "# Convert Keypoint to Desired Format"
      ],
      "metadata": {
        "id": "s51hztAZDigz"
      }
    },
    {
      "cell_type": "code",
      "source": [
        "import glob\n",
        "import json\n",
        "import pandas as pd\n",
        "\n",
        "df_list = []\n",
        "final_list = []\n",
        "lst = [{'person_id': [-1], 'pose_keypoints_2d': [0, 0, 0, 0, 0, 0, 0, 0, 0, 0, 0, 0, 0, 0, 0, 0, 0, 0, 0, 0, 0, 0, 0, 0, 0, 0, 0, 0, 0, 0, 0, 0, 0, 0, 0, 0, 0, 0, 0, 0, 0, 0, 0, 0, 0, 0, 0, 0, 0, 0, 0, 0, 0, 0, 0, 0, 0, 0, 0, 0, 0, 0, 0, 0, 0, 0, 0, 0, 0, 0, 0, 0, 0, 0, 0], 'face_keypoints_2d': [], 'hand_left_keypoints_2d': [], 'hand_right_keypoints_2d': [], 'pose_keypoints_3d': [], 'face_keypoints_3d': [], 'hand_left_keypoints_3d': [], 'hand_right_keypoints_3d': []}]\n",
        "\n",
        "\n",
        "ffiles = glob.glob('/content/output_jsons/**/*.json', \n",
        "                   recursive = True)\n",
        "\n",
        "for sfile in ffiles:\n",
        "  json_data = json.load(open(sfile))\n",
        "  mylst = json_data['people']\n",
        "  df_list.append(mylst)\n",
        "\n",
        "\n",
        "for item in df_list:\n",
        "\tif len(item) == 0:\n",
        "\t\tfinal_list.append(lst)\n",
        "\telse:\n",
        "\t\tfinal_list.append(item)\n",
        "  \n",
        "\n",
        "for values in final_list:\n",
        "  print(values[0]['pose_keypoints_2d'])"
      ],
      "metadata": {
        "id": "yWEMS8-LvZJ6"
      },
      "execution_count": null,
      "outputs": []
    },
    {
      "cell_type": "markdown",
      "source": [
        "# Export Keypoints CSV"
      ],
      "metadata": {
        "id": "OZfjsSyvB5Qb"
      }
    },
    {
      "cell_type": "code",
      "source": [
        "import csv\n",
        "\n",
        "myFile = open('keypoints.csv', 'w')\n",
        "writer = csv.writer(myFile)\n",
        "writer.writerow(['pose_keypoints_2d'])\n",
        "\n",
        "for data_list in final_list:\n",
        "    writer.writerow(data_list[0]['pose_keypoints_2d'])\n",
        "    \n",
        "myFile.close()\n",
        "myFile = open('keypoints.csv', 'r')\n",
        "print(myFile.read())\n",
        "myFile.close()"
      ],
      "metadata": {
        "id": "DOmqtaFu_PWg"
      },
      "execution_count": null,
      "outputs": []
    },
    {
      "cell_type": "markdown",
      "source": [
        "# Process Labels CSV"
      ],
      "metadata": {
        "id": "zR2XH--cHG1O"
      }
    },
    {
      "cell_type": "code",
      "source": [
        "import csv\n",
        "\n",
        "with open('/content/labels.csv', newline='') as f:\n",
        "    reader = csv.reader(f)\n",
        "    data = list(reader)\n",
        "\n",
        "myFile = open('labels.csv', 'w')\n",
        "writer = csv.writer(myFile)\n",
        "writer.writerow(['file_name', 'labels'])\n",
        "\n",
        "for data_list in data:\n",
        "    writer.writerow(data_list)\n",
        "\n",
        "myFile.close()\n",
        "myFile = open('labels.csv', 'r')\n",
        "print(myFile.read())\n",
        "myFile.close()"
      ],
      "metadata": {
        "id": "CU-g62RdBT4_"
      },
      "execution_count": null,
      "outputs": []
    },
    {
      "cell_type": "code",
      "source": [],
      "metadata": {
        "id": "ImE0qLou8vka"
      },
      "execution_count": null,
      "outputs": []
    }
  ],
  "metadata": {
    "colab": {
      "provenance": []
    },
    "kernelspec": {
      "display_name": "Python 3",
      "name": "python3"
    },
    "language_info": {
      "name": "python"
    },
    "accelerator": "GPU",
    "gpuClass": "standard"
  },
  "nbformat": 4,
  "nbformat_minor": 0
}